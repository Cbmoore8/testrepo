{
 "cells": [
  {
   "metadata": {},
   "cell_type": "markdown",
   "source": [
    "In this short exercise, you will be introduced to installing and loading Python packages.\n",
    "You will also import a dataset, estimate a regression model, and create a graphic.\n",
    "This tutorial is intended to follow along with the R version. Try to follow along, but don’t worry\n",
    "if you don’t understand everything right away. We will learn more about these steps later in the course.\n",
    "If you can get the code below to run, you are good to go for the first day of class!"
   ],
   "id": "1e738c5594fd152d"
  },
  {
   "metadata": {},
   "cell_type": "markdown",
   "source": "###Installing and Loading Packages",
   "id": "e79db542c510968a"
  },
  {
   "metadata": {},
   "cell_type": "markdown",
   "source": [
    "\n",
    "Once you have installed Python, you can install packages using the pip command in the terminal. To do so, enter the following command:"
   ],
   "id": "3e1ac1c8a10d6571"
  },
  {
   "metadata": {},
   "cell_type": "code",
   "source": "pip install scikit-learn pandas matplotlib seaborn statsmodels numpy",
   "id": "fce1dbd275cc8fb3",
   "outputs": [],
   "execution_count": null
  },
  {
   "metadata": {},
   "cell_type": "markdown",
   "source": "Next, try importing some of these libraries. You can run the code by highlighting the lines and selecting \"Run\" (or Shift + Enter in Jupyter). You can also click on the play button next to the code cell.",
   "id": "97b1939b087031ff"
  },
  {
   "metadata": {
    "ExecuteTime": {
     "end_time": "2025-02-23T19:58:12.331070Z",
     "start_time": "2025-02-23T19:58:10.805233Z"
    }
   },
   "cell_type": "code",
   "source": [
    "import pandas as pd\n",
    "import numpy as np\n",
    "import matplotlib.pyplot as plt\n",
    "import seaborn as sns\n",
    "import statsmodels.api as sm\n",
    "import sklearn  # General import of scikit-learn\n"
   ],
   "id": "ca077379e801a246",
   "outputs": [],
   "execution_count": 3
  },
  {
   "metadata": {},
   "cell_type": "markdown",
   "source": "If you don't receive any errors, you have successfully installed and loaded the necessary packages.",
   "id": "25eb40c3bcdf9422"
  },
  {
   "metadata": {},
   "cell_type": "markdown",
   "source": "###Importing Data",
   "id": "c8367bc4cb25da40"
  },
  {
   "metadata": {},
   "cell_type": "markdown",
   "source": "Import the sample Excel file: ansc_quart1.xlsx. First, save the file from the course website to your machine. Next, use the pd.read_excel function to import the file into your Python environment, making sure to reference the file path on your machine.",
   "id": "d87b7136d143986e"
  },
  {
   "metadata": {},
   "cell_type": "markdown",
   "source": [
    "Pro Tip:\n",
    "Make sure to use / rather than \\ when specifying a file path. Alternatively, in Jupyter Notebook, you can navigate to the file location, right-click the file, and select \"Copy Path\" to get the correct path."
   ],
   "id": "3323957e08ae522a"
  },
  {
   "metadata": {},
   "cell_type": "code",
   "outputs": [],
   "execution_count": null,
   "source": [
    "ansc_quart1 = pd.read_excel(\"FILEPATH/ansc_quart1.xlsx\")\n",
    "\n",
    "print(ansc_quart1)"
   ],
   "id": "a0561d144a36ba8a"
  },
  {
   "metadata": {},
   "cell_type": "markdown",
   "source": [
    "Sample Dataset:\n",
    "| x  | y    |\n",
    "|----|------|\n",
    "| 10 | 8.04 |\n",
    "| 8  | 6.95 |\n",
    "| 13 | 7.58 |\n",
    "| 9  | 8.81 |\n",
    "| 11 | 8.33 |\n",
    "| 14 | 9.96 |\n",
    "| 6  | 7.24 |\n",
    "| 4  | 4.26 |\n",
    "| 12 | 10.84|\n",
    "| 7  | 4.82 |\n",
    "| 5  | 5.68 |\n"
   ],
   "id": "21a4b4f301009d37"
  },
  {
   "metadata": {},
   "cell_type": "markdown",
   "source": "",
   "id": "68c5c1fe43a40aef"
  },
  {
   "metadata": {},
   "cell_type": "markdown",
   "source": "###Regression Analysis",
   "id": "6cbcdea5eef54870"
  },
  {
   "metadata": {},
   "cell_type": "markdown",
   "source": "Take a quick look at the dataset above. Let’s use a statistical technique called regression to predict y using the values in x. In regression terminology, we call this “a regression of y on x.”",
   "id": "dd0ec00763dbbdbb"
  },
  {
   "metadata": {},
   "cell_type": "code",
   "outputs": [],
   "execution_count": null,
   "source": [
    "# Define independent and dependent variables\n",
    "X = df[['x']]\n",
    "y = df['y']\n",
    "\n",
    "# Add a constant (intercept term) for statsmodels\n",
    "X = sm.add_constant(X)\n",
    "\n",
    "# Fit the regression model\n",
    "model = sm.OLS(y, X).fit()\n",
    "\n",
    "# Print the summary\n",
    "print(model.summary())\n",
    "\n"
   ],
   "id": "50773b7b58912ebd"
  },
  {
   "metadata": {},
   "cell_type": "markdown",
   "source": "Output predictions and residuals for each observation:",
   "id": "b3eca661a7126294"
  },
  {
   "metadata": {},
   "cell_type": "markdown",
   "source": [
    "| y    | x  | .fitted  | .resid    | .hat     | .sigma   | .cooksd  | .std.resid |\n",
    "|------|----|----------|-----------|----------|----------|----------|------------|\n",
    "| 8.04 | 10 | 8.001000 | 0.0390000 | 0.1000000 | 1.311535 | 0.0000614 | 0.0332440  |\n",
    "| 6.95 | 8  | 7.000818 | -0.0508182 | 0.1000000 | 1.311479 | 0.0001042 | -0.0433179 |\n",
    "| 7.58 | 13 | 9.501273 | -1.9212727 | 0.2363636 | 1.056460 | 0.4892093 | -1.7779327 |\n",
    "| 8.81 | 9  | 7.500909 | 1.3090909 | 0.0909091 | 1.218483 | 0.0616370 | 1.1102882  |\n",
    "| 8.33 | 11 | 8.501091 | -0.1710909 | 0.1272727 | 1.310017 | 0.0015993 | -0.1481007 |\n",
    "| 9.96 | 14 | 10.001364 | -0.0413636 | 0.3181818 | 1.311496 | 0.0003829 | -0.0405092 |\n",
    "| 7.24 | 6  | 6.000636 | 1.2393636 | 0.1727273 | 1.219936 | 0.1267565 | 1.1019046  |\n",
    "| 4.26 | 4  | 5.000455 | -0.7404545 | 0.3181818 | 1.272721 | 0.1226999 | -0.7251598 |\n",
    "| 10.84 | 12 | 9.001182 | 1.8388182 | 0.1727273 | 1.099742 | 0.2790296 | 1.6348730  |\n",
    "| 4.82 | 7  | 6.500727 | -1.6807273 | 0.1272727 | 1.147055 | 0.1543412 | -1.4548813 |\n",
    "| 5.68 | 5  | 5.500546 | 0.1794545 | 0.2363636 | 1.309605 | 0.0042680 | 0.1660660  |\n",
    "\n",
    "\n",
    "\n"
   ],
   "id": "cdd8adf0c7ed16ef"
  },
  {
   "metadata": {},
   "cell_type": "markdown",
   "source": "",
   "id": "9c32aa08239e0186"
  },
  {
   "metadata": {},
   "cell_type": "markdown",
   "source": "###Visualizing Regression with a Scatterplot",
   "id": "848d11bfd99d5921"
  },
  {
   "metadata": {},
   "cell_type": "markdown",
   "source": "To better understand regression, we can visualize the data using a scatter plot with a regression line.",
   "id": "c8b24be73da00072"
  },
  {
   "metadata": {},
   "cell_type": "code",
   "outputs": [],
   "execution_count": null,
   "source": [
    "sns.lmplot(x=\"x\", y=\"y\", data=ansc_quart1, ci=False)\n",
    "plt.xlabel(\"X\")\n",
    "plt.ylabel(\"Y\")\n",
    "plt.title(\"Regression of Y on X\")\n",
    "plt.show()\n"
   ],
   "id": "29022a7e5cac66d2"
  },
  {
   "metadata": {},
   "cell_type": "markdown",
   "source": "`geom_smooth()` using formula = 'y ~ x'\n",
   "id": "57974bb484c1099c"
  },
  {
   "metadata": {},
   "cell_type": "markdown",
   "source": "!!! NEED TO ADD IMAGE OF GRAPH HERE !!!",
   "id": "c73aca0c95e6b51b"
  },
  {
   "metadata": {},
   "cell_type": "markdown",
   "source": [
    "Bam! Congrats on your first Python code!\n",
    "You just cleared your first hurdle to getting into the world of Python!\n"
   ],
   "id": "10962f8c48a1eec4"
  }
 ],
 "metadata": {
  "kernelspec": {
   "display_name": "Python 3",
   "language": "python",
   "name": "python3"
  },
  "language_info": {
   "codemirror_mode": {
    "name": "ipython",
    "version": 2
   },
   "file_extension": ".py",
   "mimetype": "text/x-python",
   "name": "python",
   "nbconvert_exporter": "python",
   "pygments_lexer": "ipython2",
   "version": "2.7.6"
  }
 },
 "nbformat": 4,
 "nbformat_minor": 5
}
